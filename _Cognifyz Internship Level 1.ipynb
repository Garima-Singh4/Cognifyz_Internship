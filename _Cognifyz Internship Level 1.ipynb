{
 "cells": [
  {
   "cell_type": "markdown",
   "id": "6fce7817-674c-486f-89ad-ece2c2f17869",
   "metadata": {},
   "source": [
    "### Step 1: Import Necessary Libraries"
   ]
  },
  {
   "cell_type": "code",
   "execution_count": 2,
   "id": "fe045fec-4679-4be3-958e-1928305f1c85",
   "metadata": {},
   "outputs": [],
   "source": [
    "import numpy as np\n",
    "import pandas as pd\n",
    "import matplotlib.pyplot as plt\n",
    "import seaborn as sns"
   ]
  },
  {
   "cell_type": "markdown",
   "id": "af77385e-993c-4fc6-9dff-53e237e47e0c",
   "metadata": {},
   "source": [
    "### Step 2: Load the Dataset"
   ]
  },
  {
   "cell_type": "code",
   "execution_count": 3,
   "id": "97bc94f1-3b87-4185-a4d9-7ce8ba7fc7c3",
   "metadata": {},
   "outputs": [],
   "source": [
    "df = pd.read_csv(\"C:\\\\Users\\\\ACER\\\\OneDrive\\\\Desktop\\\\ms excel\\\\Python\\\\Dataset .csv\")"
   ]
  },
  {
   "cell_type": "markdown",
   "id": "f53ccd6e-eeaf-4b71-8769-b9e0936883b9",
   "metadata": {},
   "source": [
    "### Step 3: Explore the Data\n",
    "1. Preview the dataset: "
   ]
  },
  {
   "cell_type": "code",
   "execution_count": 3,
   "id": "3d3b1de6-6dbe-4a66-92a9-3625fddadea0",
   "metadata": {},
   "outputs": [
    {
     "name": "stdout",
     "output_type": "stream",
     "text": [
      "   Restaurant ID         Restaurant Name  Country Code              City  \\\n",
      "0        6317637        Le Petit Souffle           162       Makati City   \n",
      "1        6304287        Izakaya Kikufuji           162       Makati City   \n",
      "2        6300002  Heat - Edsa Shangri-La           162  Mandaluyong City   \n",
      "3        6318506                    Ooma           162  Mandaluyong City   \n",
      "4        6314302             Sambo Kojin           162  Mandaluyong City   \n",
      "\n",
      "                                             Address  \\\n",
      "0  Third Floor, Century City Mall, Kalayaan Avenu...   \n",
      "1  Little Tokyo, 2277 Chino Roces Avenue, Legaspi...   \n",
      "2  Edsa Shangri-La, 1 Garden Way, Ortigas, Mandal...   \n",
      "3  Third Floor, Mega Fashion Hall, SM Megamall, O...   \n",
      "4  Third Floor, Mega Atrium, SM Megamall, Ortigas...   \n",
      "\n",
      "                                     Locality  \\\n",
      "0   Century City Mall, Poblacion, Makati City   \n",
      "1  Little Tokyo, Legaspi Village, Makati City   \n",
      "2  Edsa Shangri-La, Ortigas, Mandaluyong City   \n",
      "3      SM Megamall, Ortigas, Mandaluyong City   \n",
      "4      SM Megamall, Ortigas, Mandaluyong City   \n",
      "\n",
      "                                    Locality Verbose   Longitude   Latitude  \\\n",
      "0  Century City Mall, Poblacion, Makati City, Mak...  121.027535  14.565443   \n",
      "1  Little Tokyo, Legaspi Village, Makati City, Ma...  121.014101  14.553708   \n",
      "2  Edsa Shangri-La, Ortigas, Mandaluyong City, Ma...  121.056831  14.581404   \n",
      "3  SM Megamall, Ortigas, Mandaluyong City, Mandal...  121.056475  14.585318   \n",
      "4  SM Megamall, Ortigas, Mandaluyong City, Mandal...  121.057508  14.584450   \n",
      "\n",
      "                           Cuisines  ...          Currency Has Table booking  \\\n",
      "0        French, Japanese, Desserts  ...  Botswana Pula(P)               Yes   \n",
      "1                          Japanese  ...  Botswana Pula(P)               Yes   \n",
      "2  Seafood, Asian, Filipino, Indian  ...  Botswana Pula(P)               Yes   \n",
      "3                   Japanese, Sushi  ...  Botswana Pula(P)                No   \n",
      "4                  Japanese, Korean  ...  Botswana Pula(P)               Yes   \n",
      "\n",
      "  Has Online delivery Is delivering now Switch to order menu Price range  \\\n",
      "0                  No                No                   No           3   \n",
      "1                  No                No                   No           3   \n",
      "2                  No                No                   No           4   \n",
      "3                  No                No                   No           4   \n",
      "4                  No                No                   No           4   \n",
      "\n",
      "   Aggregate rating  Rating color Rating text Votes  \n",
      "0               4.8    Dark Green   Excellent   314  \n",
      "1               4.5    Dark Green   Excellent   591  \n",
      "2               4.4         Green   Very Good   270  \n",
      "3               4.9    Dark Green   Excellent   365  \n",
      "4               4.8    Dark Green   Excellent   229  \n",
      "\n",
      "[5 rows x 21 columns]\n"
     ]
    }
   ],
   "source": [
    "print(df.head())"
   ]
  },
  {
   "cell_type": "code",
   "execution_count": 4,
   "id": "03980fee-7fb6-49df-97da-389b04e04528",
   "metadata": {},
   "outputs": [
    {
     "name": "stdout",
     "output_type": "stream",
     "text": [
      "<class 'pandas.core.frame.DataFrame'>\n",
      "RangeIndex: 9551 entries, 0 to 9550\n",
      "Data columns (total 21 columns):\n",
      " #   Column                Non-Null Count  Dtype  \n",
      "---  ------                --------------  -----  \n",
      " 0   Restaurant ID         9551 non-null   int64  \n",
      " 1   Restaurant Name       9551 non-null   object \n",
      " 2   Country Code          9551 non-null   int64  \n",
      " 3   City                  9551 non-null   object \n",
      " 4   Address               9551 non-null   object \n",
      " 5   Locality              9551 non-null   object \n",
      " 6   Locality Verbose      9551 non-null   object \n",
      " 7   Longitude             9551 non-null   float64\n",
      " 8   Latitude              9551 non-null   float64\n",
      " 9   Cuisines              9542 non-null   object \n",
      " 10  Average Cost for two  9551 non-null   int64  \n",
      " 11  Currency              9551 non-null   object \n",
      " 12  Has Table booking     9551 non-null   object \n",
      " 13  Has Online delivery   9551 non-null   object \n",
      " 14  Is delivering now     9551 non-null   object \n",
      " 15  Switch to order menu  9551 non-null   object \n",
      " 16  Price range           9551 non-null   int64  \n",
      " 17  Aggregate rating      9551 non-null   float64\n",
      " 18  Rating color          9551 non-null   object \n",
      " 19  Rating text           9551 non-null   object \n",
      " 20  Votes                 9551 non-null   int64  \n",
      "dtypes: float64(3), int64(5), object(13)\n",
      "memory usage: 1.5+ MB\n",
      "None\n"
     ]
    }
   ],
   "source": [
    "print(df.info())"
   ]
  },
  {
   "cell_type": "code",
   "execution_count": 5,
   "id": "5e57bc21-73ef-42ec-8258-0484497f841a",
   "metadata": {
    "scrolled": true
   },
   "outputs": [
    {
     "data": {
      "text/html": [
       "<div>\n",
       "<style scoped>\n",
       "    .dataframe tbody tr th:only-of-type {\n",
       "        vertical-align: middle;\n",
       "    }\n",
       "\n",
       "    .dataframe tbody tr th {\n",
       "        vertical-align: top;\n",
       "    }\n",
       "\n",
       "    .dataframe thead th {\n",
       "        text-align: right;\n",
       "    }\n",
       "</style>\n",
       "<table border=\"1\" class=\"dataframe\">\n",
       "  <thead>\n",
       "    <tr style=\"text-align: right;\">\n",
       "      <th></th>\n",
       "      <th>Restaurant ID</th>\n",
       "      <th>Country Code</th>\n",
       "      <th>Longitude</th>\n",
       "      <th>Latitude</th>\n",
       "      <th>Average Cost for two</th>\n",
       "      <th>Price range</th>\n",
       "      <th>Aggregate rating</th>\n",
       "      <th>Votes</th>\n",
       "    </tr>\n",
       "  </thead>\n",
       "  <tbody>\n",
       "    <tr>\n",
       "      <th>count</th>\n",
       "      <td>9.551000e+03</td>\n",
       "      <td>9551.000000</td>\n",
       "      <td>9551.000000</td>\n",
       "      <td>9551.000000</td>\n",
       "      <td>9551.000000</td>\n",
       "      <td>9551.000000</td>\n",
       "      <td>9551.000000</td>\n",
       "      <td>9551.000000</td>\n",
       "    </tr>\n",
       "    <tr>\n",
       "      <th>mean</th>\n",
       "      <td>9.051128e+06</td>\n",
       "      <td>18.365616</td>\n",
       "      <td>64.126574</td>\n",
       "      <td>25.854381</td>\n",
       "      <td>1199.210763</td>\n",
       "      <td>1.804837</td>\n",
       "      <td>2.666370</td>\n",
       "      <td>156.909748</td>\n",
       "    </tr>\n",
       "    <tr>\n",
       "      <th>std</th>\n",
       "      <td>8.791521e+06</td>\n",
       "      <td>56.750546</td>\n",
       "      <td>41.467058</td>\n",
       "      <td>11.007935</td>\n",
       "      <td>16121.183073</td>\n",
       "      <td>0.905609</td>\n",
       "      <td>1.516378</td>\n",
       "      <td>430.169145</td>\n",
       "    </tr>\n",
       "    <tr>\n",
       "      <th>min</th>\n",
       "      <td>5.300000e+01</td>\n",
       "      <td>1.000000</td>\n",
       "      <td>-157.948486</td>\n",
       "      <td>-41.330428</td>\n",
       "      <td>0.000000</td>\n",
       "      <td>1.000000</td>\n",
       "      <td>0.000000</td>\n",
       "      <td>0.000000</td>\n",
       "    </tr>\n",
       "    <tr>\n",
       "      <th>25%</th>\n",
       "      <td>3.019625e+05</td>\n",
       "      <td>1.000000</td>\n",
       "      <td>77.081343</td>\n",
       "      <td>28.478713</td>\n",
       "      <td>250.000000</td>\n",
       "      <td>1.000000</td>\n",
       "      <td>2.500000</td>\n",
       "      <td>5.000000</td>\n",
       "    </tr>\n",
       "    <tr>\n",
       "      <th>50%</th>\n",
       "      <td>6.004089e+06</td>\n",
       "      <td>1.000000</td>\n",
       "      <td>77.191964</td>\n",
       "      <td>28.570469</td>\n",
       "      <td>400.000000</td>\n",
       "      <td>2.000000</td>\n",
       "      <td>3.200000</td>\n",
       "      <td>31.000000</td>\n",
       "    </tr>\n",
       "    <tr>\n",
       "      <th>75%</th>\n",
       "      <td>1.835229e+07</td>\n",
       "      <td>1.000000</td>\n",
       "      <td>77.282006</td>\n",
       "      <td>28.642758</td>\n",
       "      <td>700.000000</td>\n",
       "      <td>2.000000</td>\n",
       "      <td>3.700000</td>\n",
       "      <td>131.000000</td>\n",
       "    </tr>\n",
       "    <tr>\n",
       "      <th>max</th>\n",
       "      <td>1.850065e+07</td>\n",
       "      <td>216.000000</td>\n",
       "      <td>174.832089</td>\n",
       "      <td>55.976980</td>\n",
       "      <td>800000.000000</td>\n",
       "      <td>4.000000</td>\n",
       "      <td>4.900000</td>\n",
       "      <td>10934.000000</td>\n",
       "    </tr>\n",
       "  </tbody>\n",
       "</table>\n",
       "</div>"
      ],
      "text/plain": [
       "       Restaurant ID  Country Code    Longitude     Latitude  \\\n",
       "count   9.551000e+03   9551.000000  9551.000000  9551.000000   \n",
       "mean    9.051128e+06     18.365616    64.126574    25.854381   \n",
       "std     8.791521e+06     56.750546    41.467058    11.007935   \n",
       "min     5.300000e+01      1.000000  -157.948486   -41.330428   \n",
       "25%     3.019625e+05      1.000000    77.081343    28.478713   \n",
       "50%     6.004089e+06      1.000000    77.191964    28.570469   \n",
       "75%     1.835229e+07      1.000000    77.282006    28.642758   \n",
       "max     1.850065e+07    216.000000   174.832089    55.976980   \n",
       "\n",
       "       Average Cost for two  Price range  Aggregate rating         Votes  \n",
       "count           9551.000000  9551.000000       9551.000000   9551.000000  \n",
       "mean            1199.210763     1.804837          2.666370    156.909748  \n",
       "std            16121.183073     0.905609          1.516378    430.169145  \n",
       "min                0.000000     1.000000          0.000000      0.000000  \n",
       "25%              250.000000     1.000000          2.500000      5.000000  \n",
       "50%              400.000000     2.000000          3.200000     31.000000  \n",
       "75%              700.000000     2.000000          3.700000    131.000000  \n",
       "max           800000.000000     4.000000          4.900000  10934.000000  "
      ]
     },
     "execution_count": 5,
     "metadata": {},
     "output_type": "execute_result"
    }
   ],
   "source": [
    "df.describe()\n"
   ]
  },
  {
   "cell_type": "markdown",
   "id": "3319906f-0237-479d-9883-312c67ca62d1",
   "metadata": {},
   "source": [
    "2. Check for the missing values or duplicates in the columns:"
   ]
  },
  {
   "cell_type": "code",
   "execution_count": 4,
   "id": "14c6ccbc-6a41-467e-bce5-ed3a1fb51062",
   "metadata": {},
   "outputs": [
    {
     "name": "stdout",
     "output_type": "stream",
     "text": [
      "Restaurant ID           0\n",
      "Restaurant Name         0\n",
      "Country Code            0\n",
      "City                    0\n",
      "Address                 0\n",
      "Locality                0\n",
      "Locality Verbose        0\n",
      "Longitude               0\n",
      "Latitude                0\n",
      "Cuisines                9\n",
      "Average Cost for two    0\n",
      "Currency                0\n",
      "Has Table booking       0\n",
      "Has Online delivery     0\n",
      "Is delivering now       0\n",
      "Switch to order menu    0\n",
      "Price range             0\n",
      "Aggregate rating        0\n",
      "Rating color            0\n",
      "Rating text             0\n",
      "Votes                   0\n",
      "dtype: int64\n"
     ]
    }
   ],
   "source": [
    "print(df.isnull().sum())"
   ]
  },
  {
   "cell_type": "code",
   "execution_count": 5,
   "id": "9b00df9c-51f9-411e-8ce1-0b94c3057cf5",
   "metadata": {},
   "outputs": [
    {
     "name": "stdout",
     "output_type": "stream",
     "text": [
      "9\n"
     ]
    }
   ],
   "source": [
    "print(df['Cuisines'].isnull().sum())"
   ]
  },
  {
   "cell_type": "code",
   "execution_count": 6,
   "id": "562a5bb7-06dd-4255-b078-0741e51876b2",
   "metadata": {},
   "outputs": [
    {
     "name": "stdout",
     "output_type": "stream",
     "text": [
      "0\n"
     ]
    }
   ],
   "source": [
    "print(df.duplicated().sum())"
   ]
  },
  {
   "cell_type": "markdown",
   "id": "95877eea-64b8-4d3f-b41a-33f261443dde",
   "metadata": {},
   "source": [
    "### Step 4: Data Cleaning\n",
    "1. Handle missing values:"
   ]
  },
  {
   "cell_type": "code",
   "execution_count": 7,
   "id": "8d7f4bab-e0cd-4993-a21e-d7adf2d73c58",
   "metadata": {},
   "outputs": [],
   "source": [
    "df = df.dropna(subset = ['Cuisines'])"
   ]
  },
  {
   "cell_type": "code",
   "execution_count": 8,
   "id": "01bb241d-9e01-457c-8aab-630b0ac212c5",
   "metadata": {},
   "outputs": [
    {
     "name": "stdout",
     "output_type": "stream",
     "text": [
      "Restaurant ID           0\n",
      "Restaurant Name         0\n",
      "Country Code            0\n",
      "City                    0\n",
      "Address                 0\n",
      "Locality                0\n",
      "Locality Verbose        0\n",
      "Longitude               0\n",
      "Latitude                0\n",
      "Cuisines                0\n",
      "Average Cost for two    0\n",
      "Currency                0\n",
      "Has Table booking       0\n",
      "Has Online delivery     0\n",
      "Is delivering now       0\n",
      "Switch to order menu    0\n",
      "Price range             0\n",
      "Aggregate rating        0\n",
      "Rating color            0\n",
      "Rating text             0\n",
      "Votes                   0\n",
      "dtype: int64\n"
     ]
    }
   ],
   "source": [
    "print(df.isnull().sum())"
   ]
  },
  {
   "cell_type": "markdown",
   "id": "2206dd97-dfd0-436f-b309-754ec0ee4897",
   "metadata": {},
   "source": [
    "2. Standardize data:"
   ]
  },
  {
   "cell_type": "code",
   "execution_count": 9,
   "id": "2b9d6046-c353-481e-97bc-411a47e7ccba",
   "metadata": {},
   "outputs": [],
   "source": [
    "df['Cuisines'] = df['Cuisines'].str.strip().str.lower()"
   ]
  },
  {
   "cell_type": "code",
   "execution_count": 10,
   "id": "3bf2d9cd-cd8b-4e17-b072-5bacbd402820",
   "metadata": {},
   "outputs": [
    {
     "name": "stdout",
     "output_type": "stream",
     "text": [
      "4406                                  ice cream, desserts\n",
      "5881                   fast food, north indian, beverages\n",
      "2913                                 fast food, beverages\n",
      "2471                                       pizza, italian\n",
      "704                                          north indian\n",
      "2657                                          street food\n",
      "3982                                            cafe, tea\n",
      "5963                                               bakery\n",
      "220                                               mexican\n",
      "1215    continental, european, asian, north indian, ch...\n",
      "Name: Cuisines, dtype: object\n"
     ]
    }
   ],
   "source": [
    "print(df['Cuisines'].sample(10)) "
   ]
  },
  {
   "cell_type": "code",
   "execution_count": 29,
   "id": "c5d7dcef-d43d-4531-b17f-3eba241ef1fc",
   "metadata": {},
   "outputs": [],
   "source": [
    "# Fix encoding issues (replace non-ASCII characters)\n",
    "Cuisines_expanded['Cuisines_split'] = Cuisines_expanded['Cuisines_split'].str.encode('ascii', 'ignore').str.decode('ascii')"
   ]
  },
  {
   "cell_type": "code",
   "execution_count": 25,
   "id": "008a2e23-0bf9-4d94-a2f1-f0ddbbe37a70",
   "metadata": {},
   "outputs": [],
   "source": [
    "# Remove irrelevant values\n",
    "irrelevant_Cuisines = ['Cuisines varies']\n",
    "Cuisines_expanded = Cuisines_expanded[~Cuisines_expanded['Cuisines_split'].isin(irrelevant_Cuisines)]"
   ]
  },
  {
   "cell_type": "code",
   "execution_count": 27,
   "id": "86267dda-9613-4024-a724-89a171aedd7f",
   "metadata": {},
   "outputs": [],
   "source": [
    "# Remove special characters\n",
    "Cuisines_expanded['Cuisines_split'] = Cuisines_expanded['Cuisines_split'].str.replace('[^a-z\\s]', '', regex = True)"
   ]
  },
  {
   "cell_type": "markdown",
   "id": "664888ae-5211-47c5-abcb-6c63d0a2010b",
   "metadata": {},
   "source": [
    "### Step 5: Analyze Cuisines Data\n",
    "1. Split cuisines if multiple are listed in one cell:"
   ]
  },
  {
   "cell_type": "code",
   "execution_count": 11,
   "id": "2b2cad0f-6b4d-446e-9012-54cf3a32c517",
   "metadata": {},
   "outputs": [],
   "source": [
    "df['Cuisines_split'] = df['Cuisines'].str.split(',')"
   ]
  },
  {
   "cell_type": "code",
   "execution_count": 12,
   "id": "74079192-9cf8-481c-8dea-9a17c9043660",
   "metadata": {},
   "outputs": [
    {
     "name": "stdout",
     "output_type": "stream",
     "text": [
      "2143                       north indian, mughlai\n",
      "6250                       north indian, chinese\n",
      "6891                                   fast food\n",
      "8833                       north indian, chinese\n",
      "4795                                north indian\n",
      "7421                           bakery, fast food\n",
      "8166         continental, mexican, mediterranean\n",
      "291                                      mexican\n",
      "4541    north indian, mediterranean, continental\n",
      "2637                          chinese, fast food\n",
      "Name: Cuisines, dtype: object\n"
     ]
    }
   ],
   "source": [
    "print(df['Cuisines'].sample(10))"
   ]
  },
  {
   "cell_type": "markdown",
   "id": "af108ebf-5314-4bf2-9d56-70165eec685f",
   "metadata": {},
   "source": [
    "2. Transform the list of Cuisines into a single-column format to simplify analysis:"
   ]
  },
  {
   "cell_type": "code",
   "execution_count": 13,
   "id": "5f06aa8b-b818-40e8-ac5f-fe68573a6122",
   "metadata": {},
   "outputs": [],
   "source": [
    "Cuisines_expanded = df.explode('Cuisines_split')"
   ]
  },
  {
   "cell_type": "code",
   "execution_count": 14,
   "id": "f96c216c-1530-4a25-a3e3-9f28c81c4ac9",
   "metadata": {},
   "outputs": [],
   "source": [
    "Cuisines_expanded['Cuisines_split'] = Cuisines_expanded['Cuisines_split'].str.strip()"
   ]
  },
  {
   "cell_type": "code",
   "execution_count": 15,
   "id": "c2f3bf47-d11a-4a2c-b076-4f5ac286dbd6",
   "metadata": {},
   "outputs": [
    {
     "name": "stdout",
     "output_type": "stream",
     "text": [
      "9445        american\n",
      "7556    north indian\n",
      "896          mughlai\n",
      "2735    north indian\n",
      "6255    north indian\n",
      "3207         mughlai\n",
      "5935         turkish\n",
      "6364       ice cream\n",
      "3229    north indian\n",
      "5195    north indian\n",
      "Name: Cuisines_split, dtype: object\n"
     ]
    }
   ],
   "source": [
    "print(Cuisines_expanded['Cuisines_split'].sample(10))"
   ]
  },
  {
   "cell_type": "markdown",
   "id": "d5508efb-dbbf-4759-a211-3d61bf6b5ac4",
   "metadata": {},
   "source": [
    "\n",
    "3. Count the occurrences of each Cuisines:\n",
    "\n",
    "   \n",
    "   "
   ]
  },
  {
   "cell_type": "code",
   "execution_count": 32,
   "id": "d399432f-f0bc-4c42-a565-04e7ae2a18ae",
   "metadata": {},
   "outputs": [
    {
     "name": "stdout",
     "output_type": "stream",
     "text": [
      "Cuisines_split\n",
      "north indian      3960\n",
      "chinese           2735\n",
      "fast food         1986\n",
      "mughlai            995\n",
      "italian            764\n",
      "                  ... \n",
      "cuisine varies       1\n",
      "fish and chips       1\n",
      "durban               1\n",
      "dner                 1\n",
      "brek                 1\n",
      "Name: count, Length: 145, dtype: int64\n"
     ]
    }
   ],
   "source": [
    "Cuisines_counts = Cuisines_expanded['Cuisines_split'].value_counts()\n",
    "print(Cuisines_counts)"
   ]
  },
  {
   "cell_type": "markdown",
   "id": "67e04237-8c1a-40e2-84d0-e7a3c82b7eec",
   "metadata": {},
   "source": [
    "## Task 1: Top Cuisines\n",
    "1. Determine the top three most common cuisines in the dataset.\n",
    "2. Calculate the percentage of restaurants that serve each of the top cuisines.\n",
    "\n"
   ]
  },
  {
   "cell_type": "markdown",
   "id": "086c2e03-8484-4747-a043-af1eab7b6fc9",
   "metadata": {},
   "source": [
    "### Step 6: Identify Top 3 Cuisines"
   ]
  },
  {
   "cell_type": "code",
   "execution_count": 20,
   "id": "ae5c7d20-98e5-4cb6-a9d7-be83c7730299",
   "metadata": {},
   "outputs": [
    {
     "name": "stdout",
     "output_type": "stream",
     "text": [
      "Cuisines_split\n",
      "north indian    3960\n",
      "chinese         2735\n",
      "fast food       1986\n",
      "Name: count, dtype: int64\n"
     ]
    }
   ],
   "source": [
    "top_Cuisines = Cuisines_counts.head(3)\n",
    "print(top_Cuisines)"
   ]
  },
  {
   "cell_type": "markdown",
   "id": "a574629e-15a1-4e56-a427-c64592d56c38",
   "metadata": {},
   "source": [
    "### Step 7: Calculate Percentage of Restaurants Serving Each Top Cuisines\n",
    "1. Calculate total restaurants:"
   ]
  },
  {
   "cell_type": "code",
   "execution_count": 21,
   "id": "ef613616-0b29-4771-9149-137dc946ab06",
   "metadata": {},
   "outputs": [
    {
     "name": "stdout",
     "output_type": "stream",
     "text": [
      "9551\n"
     ]
    }
   ],
   "source": [
    "total_restaurants = len(df)\n",
    "print(total_restaurants)"
   ]
  },
  {
   "cell_type": "markdown",
   "id": "84bea249-a85f-4422-9e09-523775a065af",
   "metadata": {},
   "source": [
    "2. Calculate the percentage for each top Cuisines:"
   ]
  },
  {
   "cell_type": "code",
   "execution_count": 118,
   "id": "c7d72efe-4377-4188-b12b-98fa4afe65d6",
   "metadata": {},
   "outputs": [
    {
     "name": "stdout",
     "output_type": "stream",
     "text": [
      "Cuisines_split\n",
      "North Indian    41.461627\n",
      "Chinese         28.635745\n",
      "Fast Food       20.793634\n",
      "Name: count, dtype: float64\n"
     ]
    }
   ],
   "source": [
    "top_Cuisines_percentage = (top_Cuisines / total_restaurants) * 100\n",
    "print(top_Cuisines_percentage)"
   ]
  },
  {
   "cell_type": "markdown",
   "id": "d8b768c4-86a8-4dcc-ba7c-0d7145510a95",
   "metadata": {},
   "source": [
    "### Step 8: Visualize the Results"
   ]
  },
  {
   "cell_type": "code",
   "execution_count": 119,
   "id": "046db5b8-657b-4e41-8ed0-957352338ab5",
   "metadata": {},
   "outputs": [
    {
     "data": {
      "image/png": "[encoded data removed]",
      "text/plain": [
       "<Figure size 640x480 with 1 Axes>"
      ]
     },
     "metadata": {},
     "output_type": "display_data"
    }
   ],
   "source": [
    "top_Cuisines_percentage.plot(kind = 'bar', color = ['blue', 'orange', 'green'] )\n",
    "plt.title('Top 3 Cuisines by Percentage')\n",
    "plt.xlabel('Cuisines')\n",
    "plt.ylabel('Percentage of Restaurants (%) ')\n",
    "plt.show()"
   ]
  },
  {
   "cell_type": "markdown",
   "id": "39eefe7d-79f6-4bb0-9f7d-27259584c5d5",
   "metadata": {},
   "source": [
    "### Step 9: The Insights"
   ]
  },
  {
   "cell_type": "raw",
   "id": "da2b0b42-fcde-4bf5-81a3-42a0e294eeb7",
   "metadata": {},
   "source": [
    "1. Top 3 Most Common Cuisines in the Dataset :  north indian,\n",
    "                                                chinese,\n",
    "                                                fast food"
   ]
  },
  {
   "cell_type": "raw",
   "id": "137a8b9f-c0a0-45b6-903e-3423803cc870",
   "metadata": {},
   "source": [
    "2. The Percentage of Restaurants that Serve Each of the Top Cuisines : north indian       41.500734\n",
    "                                                                       chinese            28.662754\n",
    "                                                                       fast food          20.813247"
   ]
  },
  {
   "cell_type": "markdown",
   "id": "fc26f541-f48d-47c0-bce1-efd2b80ed45c",
   "metadata": {},
   "source": [
    "# Task 2: City Analysis\n",
    "1. Identify the city with the highest number of restaurants in the dataset.\n",
    "2. Calculate the average rating for restaurants in each city.\n",
    "3. Determine the city with the highest average rating.\n"
   ]
  },
  {
   "cell_type": "markdown",
   "id": "e592c873-1e75-4dd7-b28f-fc609a41b114",
   "metadata": {},
   "source": [
    "### Step 1: Data Processing"
   ]
  },
  {
   "cell_type": "markdown",
   "id": "cdb64f56-7b67-498f-8feb-d3ef57bd0bf9",
   "metadata": {},
   "source": [
    "1. Handle missing values:"
   ]
  },
  {
   "cell_type": "code",
   "execution_count": 5,
   "id": "439500d0-00d1-4136-aa2f-b18889fb3e75",
   "metadata": {},
   "outputs": [],
   "source": [
    "df = df.dropna(subset = ['City', 'Aggregate rating'])"
   ]
  },
  {
   "cell_type": "markdown",
   "id": "bf135907-ead1-43f1-b50f-4605a6a6c87a",
   "metadata": {},
   "source": [
    "2. Standardize city names:"
   ]
  },
  {
   "cell_type": "code",
   "execution_count": 23,
   "id": "e60d2a0d-887b-4e26-88c5-9255e6efc463",
   "metadata": {},
   "outputs": [
    {
     "name": "stdout",
     "output_type": "stream",
     "text": [
      "406     pocatello\n",
      "1346      gurgaon\n",
      "6120    new delhi\n",
      "1713      gurgaon\n",
      "7403    new delhi\n",
      "3774    new delhi\n",
      "8323        noida\n",
      "506     tampa bay\n",
      "2127      gurgaon\n",
      "2108      gurgaon\n",
      "Name: City, dtype: object\n"
     ]
    }
   ],
   "source": [
    "df['City'] = df['City'].str.strip().str.lower()\n",
    "print(df['City'].sample(10))"
   ]
  },
  {
   "cell_type": "code",
   "execution_count": 27,
   "id": "acd7e1b3-3047-44fe-8dd9-e5e6d7cbbc4f",
   "metadata": {},
   "outputs": [],
   "source": [
    "# Fix encoding issues\n",
    "df['City'] = df['City'].str.encode('ascii', 'ignore').str.decode('ascii')\n"
   ]
  },
  {
   "cell_type": "markdown",
   "id": "8ac9b599-673a-4894-8f96-a0e9102e1c3c",
   "metadata": {},
   "source": [
    "### Step 2: Identify the city with the highest number of restaurants\n",
    "1.Number of restaurants in each city:"
   ]
  },
  {
   "cell_type": "code",
   "execution_count": 24,
   "id": "34100a90-292a-493f-8953-f1d413803473",
   "metadata": {},
   "outputs": [
    {
     "name": "stdout",
     "output_type": "stream",
     "text": [
      "City\n",
      "new delhi         5473\n",
      "gurgaon           1118\n",
      "noida             1080\n",
      "faridabad          251\n",
      "ghaziabad           25\n",
      "                  ... \n",
      "lakes entrance       1\n",
      "mohali               1\n",
      "panchkula            1\n",
      "bandung              1\n",
      "randburg             1\n",
      "Name: count, Length: 141, dtype: int64\n"
     ]
    }
   ],
   "source": [
    "city_counts = df['City'].value_counts()\n",
    "print(city_counts)"
   ]
  },
  {
   "cell_type": "markdown",
   "id": "0278e51b-6965-4562-9183-485d24fed4b1",
   "metadata": {},
   "source": [
    "2.City with the highest number of restaurants:"
   ]
  },
  {
   "cell_type": "code",
   "execution_count": 25,
   "id": "3bc34744-0586-4438-a48d-b37479719b9b",
   "metadata": {},
   "outputs": [
    {
     "name": "stdout",
     "output_type": "stream",
     "text": [
      "City with the highest number of restaurants is new delhi.\n"
     ]
    }
   ],
   "source": [
    "city_with_highest_number_of_restaurants = city_counts.idxmax()\n",
    "print(f\"City with the highest number of restaurants is {city_with_highest_number_of_restaurants}.\")"
   ]
  },
  {
   "cell_type": "markdown",
   "id": "dc4bf520-9993-4198-8604-8caaae6f32e8",
   "metadata": {},
   "source": [
    "### Step 3: Calculate the average rating for restaurants in each city"
   ]
  },
  {
   "cell_type": "code",
   "execution_count": 28,
   "id": "9e6c7de1-3e0c-4cf8-89be-1d6de2acb61d",
   "metadata": {},
   "outputs": [
    {
     "name": "stdout",
     "output_type": "stream",
     "text": [
      "City\n",
      "abu dhabi          4.300000\n",
      "agra               3.965000\n",
      "ahmedabad          4.161905\n",
      "albany             3.555000\n",
      "allahabad          3.395000\n",
      "                     ...   \n",
      "waterloo           3.650000\n",
      "weirton            3.900000\n",
      "wellington city    4.250000\n",
      "winchester bay     3.200000\n",
      "yorkton            3.300000\n",
      "Name: Aggregate rating, Length: 141, dtype: float64\n"
     ]
    }
   ],
   "source": [
    "avg_rating = df.groupby('City')['Aggregate rating'].mean()\n",
    "print(avg_rating)"
   ]
  },
  {
   "cell_type": "code",
   "execution_count": 31,
   "id": "44748ebc-d056-4041-be1c-9eb235983fd2",
   "metadata": {},
   "outputs": [],
   "source": [
    "# Reset the column name\n",
    "avg_rating = avg_rating.reset_index().rename(columns = {'Aggregate rating': 'average_rating'})"
   ]
  },
  {
   "cell_type": "markdown",
   "id": "20f79003-e539-44a8-ba2a-17ff95617423",
   "metadata": {},
   "source": [
    "### Step 4: Determine the city with the highest average rating"
   ]
  },
  {
   "cell_type": "code",
   "execution_count": 24,
   "id": "c94afad6-82d7-47d2-9d4e-2c817b4d08fe",
   "metadata": {},
   "outputs": [
    {
     "name": "stdout",
     "output_type": "stream",
     "text": [
      "City with the highest average rating is Inner City with an average rating of 4.90.\n"
     ]
    }
   ],
   "source": [
    "city_with_highest_average_rating = avg_rating.loc[avg_rating['average_rating'].idxmax()]\n",
    "print(f\"City with the highest average rating is {city_with_highest_average_rating['City']} with an average rating of {city_with_highest_average_rating['average_rating']:.2f}.\")"
   ]
  },
  {
   "cell_type": "markdown",
   "id": "2631c9de-c900-48c2-80f9-698c9c063320",
   "metadata": {},
   "source": [
    "### Step 5: Visualize the Results"
   ]
  },
  {
   "cell_type": "markdown",
   "id": "2b84cd57-b0d7-4563-b90c-8efe7bf478c7",
   "metadata": {},
   "source": [
    "1. Bar chart of cities with the highest number of restaurants:"
   ]
  },
  {
   "cell_type": "code",
   "execution_count": 29,
   "id": "9531d155-91f4-4892-ace3-6a55b08a8815",
   "metadata": {},
   "outputs": [
    {
     "data": {
      "image/png": "[encoded data removed]",
      "text/plain": [
       "<Figure size 640x480 with 1 Axes>"
      ]
     },
     "metadata": {},
     "output_type": "display_data"
    }
   ],
   "source": [
    "city_counts.head(10).plot(kind = 'bar', color = 'orange')\n",
    "plt.title('Top 10 City with the Highest Number of Restaurants')\n",
    "plt.xlabel('City')\n",
    "plt.ylabel('Number Of Restaurants')\n",
    "plt.show()"
   ]
  },
  {
   "cell_type": "markdown",
   "id": "1d2b0c9d-fd8c-45a4-bf1c-9e8640083a35",
   "metadata": {},
   "source": [
    "2. Bar chart of Cities by Average Rating:"
   ]
  },
  {
   "cell_type": "code",
   "execution_count": 32,
   "id": "b790b270-c5a6-4c6a-9fcc-0a9db01855e8",
   "metadata": {},
   "outputs": [
    {
     "data": {
      "image/png": "[encoded data removed]",
      "text/plain": [
       "<Figure size 640x480 with 1 Axes>"
      ]
     },
     "metadata": {},
     "output_type": "display_data"
    }
   ],
   "source": [
    "avg_rating_sorted = avg_rating.sort_values(by = 'average_rating', ascending = False)\n",
    "avg_rating_sorted.head(10).plot(kind = 'bar', x = 'City', y = 'average_rating', color = 'green')\n",
    "plt.title('Top 10 Cities by Average Rating of Restaurants')\n",
    "plt.xlabel('City')\n",
    "plt.ylabel('Average Rating')\n",
    "plt.show()"
   ]
  },
  {
   "cell_type": "markdown",
   "id": "07028d39-312b-4d75-a5f4-ebb161b1f1a8",
   "metadata": {},
   "source": [
    "### Step 6: The Insights"
   ]
  },
  {
   "cell_type": "raw",
   "id": "adbdd663-7610-4249-9c8c-ca78be2c9725",
   "metadata": {},
   "source": [
    "1. City with highest number of restaurants is New Delhi."
   ]
  },
  {
   "cell_type": "raw",
   "id": "b1c5274a-ec97-451c-99fe-a046226a2463",
   "metadata": {},
   "source": [
    "2. The average restaurants rating by city are: Abu Dhabi - 4.30, Agra - 3.90, Allahabad - 3.39, and so on."
   ]
  },
  {
   "cell_type": "raw",
   "id": "1fcb100c-112c-47e6-9b78-a158f842b6ba",
   "metadata": {},
   "source": [
    "3. City with the highest average rating is Inner City with an average rating of 4.90."
   ]
  },
  {
   "cell_type": "markdown",
   "id": "de5b3a63-484a-420c-ba22-fd690d05c580",
   "metadata": {},
   "source": [
    "# Task 3: Price Range Distribution\n",
    "1. Create a histogram or bar chart to visualize the distribution of price ranges among the restaurants.\n",
    "2. Calculate the percentage of restaurants in each price range category."
   ]
  },
  {
   "cell_type": "markdown",
   "id": "4a98ddcd-07ea-498e-a6d4-f7db7806326a",
   "metadata": {},
   "source": [
    "### Step 1: Data Processing"
   ]
  },
  {
   "cell_type": "markdown",
   "id": "4dd1371a-df71-4e54-bc43-4ae429079461",
   "metadata": {},
   "source": [
    "1. Handle missing values:"
   ]
  },
  {
   "cell_type": "code",
   "execution_count": 33,
   "id": "94e764b4-2af6-44fb-8c52-05e18119a2e4",
   "metadata": {},
   "outputs": [],
   "source": [
    "df = df.dropna(subset = ['Price range'])"
   ]
  },
  {
   "cell_type": "markdown",
   "id": "548b972f-0edf-4587-845f-3d37d1261d21",
   "metadata": {},
   "source": [
    "### Step 2: Visualize the Distribution of Price Ranges\n",
    "1. Number of restaurants in each price range"
   ]
  },
  {
   "cell_type": "code",
   "execution_count": 34,
   "id": "d83964ee-a54a-41d1-afed-8422e6aa16bf",
   "metadata": {},
   "outputs": [
    {
     "name": "stdout",
     "output_type": "stream",
     "text": [
      "Price range\n",
      "1    4444\n",
      "2    3113\n",
      "3    1408\n",
      "4     586\n",
      "Name: count, dtype: int64\n"
     ]
    }
   ],
   "source": [
    "price_counts = df['Price range'].value_counts()\n",
    "print(price_counts)"
   ]
  },
  {
   "cell_type": "markdown",
   "id": "a7f58e95-89b8-4b15-9e95-4a70f76f4a9e",
   "metadata": {},
   "source": [
    "2. Histogram of Price Range vs. Number of Restaurants"
   ]
  },
  {
   "cell_type": "code",
   "execution_count": 35,
   "id": "edca217b-92c5-4afe-8a82-e1a5b030184e",
   "metadata": {},
   "outputs": [
    {
     "data": {
      "image/png": "[encoded data removed]",
      "text/plain": [
       "<Figure size 640x480 with 1 Axes>"
      ]
     },
     "metadata": {},
     "output_type": "display_data"
    }
   ],
   "source": [
    "df['Price range'].hist(bins = 5, color = 'pink', edgecolor = 'black')\n",
    "plt.title('Histogram of Price Ranges vs. Number of Restaurants')\n",
    "plt.xlabel('Price Range')\n",
    "plt.ylabel('Number of Restaurants')\n",
    "plt.show()\n"
   ]
  },
  {
   "cell_type": "markdown",
   "id": "14757404-2e1a-4ffe-9b28-2ece6a34fc2a",
   "metadata": {},
   "source": [
    "### Step 3: Percentage of restaurants in each price range category"
   ]
  },
  {
   "cell_type": "markdown",
   "id": "1ce178c9-17a0-4012-84fb-a7d840a9a57c",
   "metadata": {},
   "source": [
    "1. Total number of restaurants"
   ]
  },
  {
   "cell_type": "code",
   "execution_count": 37,
   "id": "b8183cb5-da5e-4e9e-ab8b-22beb6cf9d77",
   "metadata": {},
   "outputs": [
    {
     "name": "stdout",
     "output_type": "stream",
     "text": [
      "9551\n"
     ]
    }
   ],
   "source": [
    "total_restaurants = len(df)\n",
    "print(total_restaurants)"
   ]
  },
  {
   "cell_type": "markdown",
   "id": "fb373441-4998-4280-b0c5-2ecb198b309e",
   "metadata": {},
   "source": [
    "2. Percentage for each price range"
   ]
  },
  {
   "cell_type": "code",
   "execution_count": 38,
   "id": "4c3587d1-011f-49be-8443-03401df6dec2",
   "metadata": {},
   "outputs": [
    {
     "name": "stdout",
     "output_type": "stream",
     "text": [
      "Price range\n",
      "1    46.529159\n",
      "2    32.593446\n",
      "3    14.741912\n",
      "4     6.135483\n",
      "Name: count, dtype: float64\n"
     ]
    }
   ],
   "source": [
    "price_percentages = (price_counts / total_restaurants) * 100\n",
    "print(price_percentages)"
   ]
  },
  {
   "cell_type": "markdown",
   "id": "a7775fa2-21e5-4389-84c5-366b5d95ce07",
   "metadata": {},
   "source": [
    "3. Bar chart of Price Range vs. Percentage of Restaurants"
   ]
  },
  {
   "cell_type": "code",
   "execution_count": 40,
   "id": "75bfa1a5-06ef-4976-966d-2a3682b53f10",
   "metadata": {},
   "outputs": [
    {
     "data": {
      "image/png": "[encoded data removed]",
      "text/plain": [
       "<Figure size 640x480 with 1 Axes>"
      ]
     },
     "metadata": {},
     "output_type": "display_data"
    }
   ],
   "source": [
    "price_percentages.plot(kind = 'bar', color = 'teal')\n",
    "plt.title('Percentage Distribution of Price Range')\n",
    "plt.xlabel('Price Range')\n",
    "plt.ylabel('Percentage of Restaurants(%)')\n",
    "plt.show()"
   ]
  },
  {
   "cell_type": "markdown",
   "id": "fb05247a-c506-49f0-b65d-6da4c161bed0",
   "metadata": {},
   "source": [
    "### Step 4: The Insights"
   ]
  },
  {
   "cell_type": "raw",
   "id": "5420ef35-43c6-43a4-b252-34916fc86cb8",
   "metadata": {},
   "source": [
    "\n",
    "1. Number of restaurants in each price range : Price Range          Price Count\n",
    "                                               1                    4444\n",
    "                                               2                    3113\n",
    "                                               3                    1408\n",
    "                                               4                    586"
   ]
  },
  {
   "cell_type": "markdown",
   "id": "ec50146d-aded-49ac-974e-3a5335fcd9cb",
   "metadata": {},
   "source": [
    "# Task 4: Online Delivery "
   ]
  },
  {
   "cell_type": "markdown",
   "id": "ba4fcbe0-e78c-41f4-bc14-ccb25fb1275a",
   "metadata": {},
   "source": [
    "1. Determine the percentage of restaurants that offer online delivery.\n",
    "2. Compare the average ratings of restaurants with and without online delivery."
   ]
  },
  {
   "cell_type": "markdown",
   "id": "6da406a2-fd3c-4ca2-8f30-7886f321cae4",
   "metadata": {},
   "source": [
    "### Step 1: Data Processing"
   ]
  },
  {
   "cell_type": "markdown",
   "id": "2bf76bd4-a0e7-410c-ac77-6975dbe28ead",
   "metadata": {},
   "source": [
    "1. Handle missing values:"
   ]
  },
  {
   "cell_type": "code",
   "execution_count": 4,
   "id": "3d1143b4-19d2-4f0f-90d4-8c78c249c19c",
   "metadata": {},
   "outputs": [],
   "source": [
    "df = df.dropna(subset = ['Has Online delivery', 'Aggregate rating'])"
   ]
  },
  {
   "cell_type": "markdown",
   "id": "ffd15e36-9f1d-40c7-9a71-d97b34299a01",
   "metadata": {},
   "source": [
    "2. Standardize the data:"
   ]
  },
  {
   "cell_type": "code",
   "execution_count": 7,
   "id": "648087a1-8922-43e8-a12d-bcd1aa8f8df5",
   "metadata": {},
   "outputs": [],
   "source": [
    "# Reset the column name \n",
    "df = df.reset_index().rename(columns = {'Has Online delivery': 'online_delivery'})"
   ]
  },
  {
   "cell_type": "code",
   "execution_count": 9,
   "id": "a8843dc1-b36e-47a9-936e-13b78dd13b85",
   "metadata": {},
   "outputs": [
    {
     "name": "stdout",
     "output_type": "stream",
     "text": [
      "1951     no\n",
      "3914    yes\n",
      "8640    yes\n",
      "5240     no\n",
      "9295     no\n",
      "3963     no\n",
      "7963     no\n",
      "6800     no\n",
      "3340     no\n",
      "4564     no\n",
      "Name: online_delivery, dtype: object\n"
     ]
    }
   ],
   "source": [
    "df['online_delivery'] = df['online_delivery'].str.strip().str.lower()\n",
    "print(df['online_delivery'].sample(10))"
   ]
  },
  {
   "cell_type": "markdown",
   "id": "c65149b7-63f1-4016-8bf9-17d42eba82ec",
   "metadata": {},
   "source": [
    "### Step 2: Percentage of restaurants offering online delivery"
   ]
  },
  {
   "cell_type": "markdown",
   "id": "b587a20c-44a6-4d3d-ac7b-70231fee952e",
   "metadata": {},
   "source": [
    "1. Number of restaurants with or without online delivery:"
   ]
  },
  {
   "cell_type": "code",
   "execution_count": 10,
   "id": "1da1d8f7-f1c8-4b33-9472-3d76efc3862e",
   "metadata": {},
   "outputs": [
    {
     "name": "stdout",
     "output_type": "stream",
     "text": [
      "online_delivery\n",
      "no     7100\n",
      "yes    2451\n",
      "Name: count, dtype: int64\n"
     ]
    }
   ],
   "source": [
    "online_delivery_counts = df['online_delivery'].value_counts()\n",
    "print(online_delivery_counts)"
   ]
  },
  {
   "cell_type": "markdown",
   "id": "8a98ddaf-f8a4-4b89-86d5-8292032cb16f",
   "metadata": {},
   "source": [
    "2. Percentage calculation:"
   ]
  },
  {
   "cell_type": "code",
   "execution_count": 13,
   "id": "913cbd3e-a326-4a70-9eaf-92b41a3d472a",
   "metadata": {},
   "outputs": [
    {
     "name": "stdout",
     "output_type": "stream",
     "text": [
      "online_delivery\n",
      "no     74.337766\n",
      "yes    25.662234\n",
      "Name: count, dtype: float64\n"
     ]
    }
   ],
   "source": [
    "total_restaurants = len(df)\n",
    "online_delivery_percentage = (online_delivery_counts / total_restaurants) * 100\n",
    "print(online_delivery_percentage)"
   ]
  },
  {
   "cell_type": "markdown",
   "id": "e59ab6f2-8bf7-4d6b-b856-ebbd2b87ce33",
   "metadata": {},
   "source": [
    "### Step 3: Comparison of the average ratings of restaurants offering online delivery versus those that do not"
   ]
  },
  {
   "cell_type": "markdown",
   "id": "ed7fd7e9-0af3-4903-b3b5-8e3a1ebfbb46",
   "metadata": {},
   "source": [
    "1. Calculation of average ratings using the group by function:"
   ]
  },
  {
   "cell_type": "code",
   "execution_count": 23,
   "id": "c33b27a3-9216-4c35-ac2e-aef14e6514fb",
   "metadata": {},
   "outputs": [
    {
     "name": "stdout",
     "output_type": "stream",
     "text": [
      "online_delivery\n",
      "no     2.465296\n",
      "yes    3.248837\n",
      "Name: Aggregate rating, dtype: float64\n"
     ]
    }
   ],
   "source": [
    "avg_ratings = df.groupby('online_delivery')['Aggregate rating'].mean()\n",
    "print(avg_ratings)"
   ]
  },
  {
   "cell_type": "code",
   "execution_count": 22,
   "id": "1f823f63-b453-474b-af1a-0158ffd97f1c",
   "metadata": {},
   "outputs": [],
   "source": [
    "# Reset the column name\n",
    "avg_ratings = avg_ratings.reset_index().rename(columns = {'Aggregate rating' : 'average_rating'})"
   ]
  },
  {
   "cell_type": "markdown",
   "id": "8ff53302-a575-49a5-8425-149bacd458c9",
   "metadata": {},
   "source": [
    "2. Visualization:"
   ]
  },
  {
   "cell_type": "code",
   "execution_count": 25,
   "id": "7068090b-3b2c-4113-94f0-cac66650e4ba",
   "metadata": {},
   "outputs": [
    {
     "data": {
      "image/png": "[encoded data removed]",
      "text/plain": [
       "<Figure size 640x480 with 1 Axes>"
      ]
     },
     "metadata": {},
     "output_type": "display_data"
    }
   ],
   "source": [
    "avg_ratings.plot(kind = 'bar', color = ['blue', 'green'], legend = False)\n",
    "plt.title('Average Ratings : Online Delivery vs. No Online Delivery')\n",
    "plt.xlabel('Online Delivery')\n",
    "plt.ylabel('Average Ratings')\n",
    "plt.xticks([0,1], ['No', 'Yes'])\n",
    "plt.show()"
   ]
  },
  {
   "cell_type": "markdown",
   "id": "1c04d656-262e-4873-bb20-4092c7c4c3d7",
   "metadata": {},
   "source": [
    "### Step 4: The Insights"
   ]
  },
  {
   "cell_type": "raw",
   "id": "2a8652b1-2605-44f0-acb8-9e4f49b79a7e",
   "metadata": {},
   "source": [
    "\n",
    "1. Number of restaurants with online delivery is 2451.\n",
    "2. The average rating of restaurants offering online delivery is 3.24.\n"
   ]
  }
 ],
 "metadata": {
  "kernelspec": {
   "display_name": "Python 3 (ipykernel)",
   "language": "python",
   "name": "python3"
  },
  "language_info": {
   "codemirror_mode": {
    "name": "ipython",
    "version": 3
   },
   "file_extension": ".py",
   "mimetype": "text/x-python",
   "name": "python",
   "nbconvert_exporter": "python",
   "pygments_lexer": "ipython3",
   "version": "3.10.2"
  }
 },
 "nbformat": 4,
 "nbformat_minor": 5
}
